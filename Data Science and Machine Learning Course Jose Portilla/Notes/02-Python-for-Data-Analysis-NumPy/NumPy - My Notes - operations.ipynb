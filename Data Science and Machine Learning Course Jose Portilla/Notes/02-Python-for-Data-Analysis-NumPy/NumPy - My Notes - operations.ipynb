{
 "cells": [
  {
   "cell_type": "code",
   "execution_count": 6,
   "id": "f82637ed",
   "metadata": {},
   "outputs": [
    {
     "name": "stdout",
     "output_type": "stream",
     "text": [
      "[ 0  1  2  3  4  5  6  7  8  9 10]\n",
      "[ 1  2  3  4  5  6  7  8  9 10 11]\n"
     ]
    }
   ],
   "source": [
    "import numpy as np\n",
    "arr1 = np.arange(0,11)\n",
    "arr2 = np.arange(1,12)\n",
    "print(arr1)\n",
    "print(arr2)"
   ]
  },
  {
   "cell_type": "code",
   "execution_count": 7,
   "id": "663b5009",
   "metadata": {},
   "outputs": [
    {
     "name": "stdout",
     "output_type": "stream",
     "text": [
      "[ 1  3  5  7  9 11 13 15 17 19 21]\n",
      "[-1 -1 -1 -1 -1 -1 -1 -1 -1 -1 -1]\n",
      "[  0   2   6  12  20  30  42  56  72  90 110]\n",
      "[0.         0.5        0.66666667 0.75       0.8        0.83333333\n",
      " 0.85714286 0.875      0.88888889 0.9        0.90909091]\n"
     ]
    }
   ],
   "source": [
    "# Add/Substract/Multiply/Divide corresponding array elements of 2 (or more) NumPy vectors or matrices -\n",
    "# Note - The vectors / matrices should be of the same size.\n",
    "arr3 = arr1 + arr2\n",
    "print(arr3)\n",
    "arr3 = arr1 - arr2\n",
    "print(arr3)\n",
    "arr3 = arr1 * arr2\n",
    "print(arr3)\n",
    "arr3 = arr1 / arr2\n",
    "print(arr3)"
   ]
  },
  {
   "cell_type": "code",
   "execution_count": 8,
   "id": "d1e95c14",
   "metadata": {},
   "outputs": [
    {
     "name": "stdout",
     "output_type": "stream",
     "text": [
      "[ 2  3  4  5  6  7  8  9 10 11 12]\n",
      "[-2 -1  0  1  2  3  4  5  6  7  8]\n",
      "[ 0  2  4  6  8 10 12 14 16 18 20]\n",
      "[0.  0.5 1.  1.5 2.  2.5 3.  3.5 4.  4.5 5. ]\n",
      "[  0   1   4   9  16  25  36  49  64  81 100]\n",
      "[[ 10  11  12  13  14  15  16  17  18  19]\n",
      " [ 20  21  22  23  24  25  26  27  28  29]\n",
      " [ 30  31  32  33  34  35  36  37  38  39]\n",
      " [ 40  41  42  43  44  45  46  47  48  49]\n",
      " [ 50  51  52  53  54  55  56  57  58  59]\n",
      " [ 60  61  62  63  64  65  66  67  68  69]\n",
      " [ 70  71  72  73  74  75  76  77  78  79]\n",
      " [ 80  81  82  83  84  85  86  87  88  89]\n",
      " [ 90  91  92  93  94  95  96  97  98  99]\n",
      " [100 101 102 103 104 105 106 107 108 109]]\n"
     ]
    }
   ],
   "source": [
    "# Add/Substract/Multiply/Divide/Exponent a scalar to all the array elements of a NumPy vector or matrix -\n",
    "arr3 = arr1 + 2\n",
    "print(arr3)\n",
    "arr3 = arr1 - 2\n",
    "print(arr3)\n",
    "arr3 = arr1 * 2\n",
    "print(arr3)\n",
    "arr3 = arr1 / 2\n",
    "print(arr3)\n",
    "arr3 = arr1 ** 2\n",
    "print(arr3)\n",
    "arr_2d = np.arange(100).reshape(10,10)\n",
    "arr3 = arr_2d + 10\n",
    "print(arr3)"
   ]
  },
  {
   "cell_type": "code",
   "execution_count": 4,
   "id": "72384d26",
   "metadata": {},
   "outputs": [
    {
     "name": "stdout",
     "output_type": "stream",
     "text": [
      "[-1, -3, -5, -7, -9, 0, 2, 4, 6, 8]\n"
     ]
    },
    {
     "name": "stderr",
     "output_type": "stream",
     "text": [
      "<ipython-input-4-cfe93cc904d8>:11: RuntimeWarning: divide by zero encountered in true_divide\n",
      "  np.array(arr3) / np.zeros(10)\n",
      "<ipython-input-4-cfe93cc904d8>:11: RuntimeWarning: invalid value encountered in true_divide\n",
      "  np.array(arr3) / np.zeros(10)\n"
     ]
    },
    {
     "data": {
      "text/plain": [
       "array([-inf, -inf, -inf, -inf, -inf,  nan,  inf,  inf,  inf,  inf])"
      ]
     },
     "execution_count": 4,
     "metadata": {},
     "output_type": "execute_result"
    }
   ],
   "source": [
    "# Plain python me jab 0 se divide kro to zeorDivisionError milta he\n",
    "# But NumPy me,\n",
    "# -> (-ive_num not 0) / 0 = (-inf)\n",
    "# -> (+ive_num not 0) / 0 = (inf)\n",
    "# -> 0 / 0 = nan = not a number (null ke jaisa hi samajh lo)\n",
    "\n",
    "arr1 = [-x for x in range(10) if x%2!=0]\n",
    "arr2 = [x for x in range(10) if x%2==0]\n",
    "arr3 = arr1 + arr2\n",
    "print(arr3)\n",
    "np.array(arr3) / np.zeros(10)"
   ]
  },
  {
   "cell_type": "code",
   "execution_count": 17,
   "id": "2788c664",
   "metadata": {},
   "outputs": [
    {
     "data": {
      "text/plain": [
       "array([ 0,  1,  2,  3,  4,  5,  6,  7,  8,  9, 10])"
      ]
     },
     "execution_count": 17,
     "metadata": {},
     "output_type": "execute_result"
    }
   ],
   "source": [
    "# Some Mathematical Array functions offered by NumPy -\n",
    "\n",
    "arr = np.arange(11)\n",
    "arr"
   ]
  },
  {
   "cell_type": "code",
   "execution_count": 10,
   "id": "79a35ef3",
   "metadata": {},
   "outputs": [
    {
     "data": {
      "text/plain": [
       "array([0.        , 1.        , 1.41421356, 1.73205081, 2.        ,\n",
       "       2.23606798, 2.44948974, 2.64575131, 2.82842712, 3.        ])"
      ]
     },
     "execution_count": 10,
     "metadata": {},
     "output_type": "execute_result"
    }
   ],
   "source": [
    "# Square root -\n",
    "np.sqrt(arr) # takes the square root of all the elements and then returns the corresponding values in an array of the same size."
   ]
  },
  {
   "cell_type": "code",
   "execution_count": 11,
   "id": "ad7d9027",
   "metadata": {},
   "outputs": [
    {
     "data": {
      "text/plain": [
       "array([1.00000000e+00, 2.71828183e+00, 7.38905610e+00, 2.00855369e+01,\n",
       "       5.45981500e+01, 1.48413159e+02, 4.03428793e+02, 1.09663316e+03,\n",
       "       2.98095799e+03, 8.10308393e+03])"
      ]
     },
     "execution_count": 11,
     "metadata": {},
     "output_type": "execute_result"
    }
   ],
   "source": [
    "# Exponentiation (e^(array element)) -\n",
    "np.exp(arr) # takes the exponent of all the elements and then returns the corresponding values in an array of the same size."
   ]
  },
  {
   "cell_type": "code",
   "execution_count": 13,
   "id": "1130ad89",
   "metadata": {},
   "outputs": [
    {
     "data": {
      "text/plain": [
       "9"
      ]
     },
     "execution_count": 13,
     "metadata": {},
     "output_type": "execute_result"
    }
   ],
   "source": [
    "# Obtain maximum value (pehle kar chuke he)\n",
    "np.max(arr)\n",
    "# arr.max() -> previous"
   ]
  },
  {
   "cell_type": "code",
   "execution_count": 14,
   "id": "ffa912b2",
   "metadata": {},
   "outputs": [
    {
     "data": {
      "text/plain": [
       "array([ 0.        ,  0.84147098,  0.90929743,  0.14112001, -0.7568025 ,\n",
       "       -0.95892427, -0.2794155 ,  0.6569866 ,  0.98935825,  0.41211849])"
      ]
     },
     "execution_count": 14,
     "metadata": {},
     "output_type": "execute_result"
    }
   ],
   "source": [
    "# Sin -\n",
    "np.sin(arr) # takes the sine of all the elements and then returns the corresponding values in an array of the same size."
   ]
  },
  {
   "cell_type": "code",
   "execution_count": 15,
   "id": "3a9328a0",
   "metadata": {},
   "outputs": [
    {
     "data": {
      "text/plain": [
       "array([ 1.        ,  0.54030231, -0.41614684, -0.9899925 , -0.65364362,\n",
       "        0.28366219,  0.96017029,  0.75390225, -0.14550003, -0.91113026])"
      ]
     },
     "execution_count": 15,
     "metadata": {},
     "output_type": "execute_result"
    }
   ],
   "source": [
    "# Cos -\n",
    "np.cos(arr) # takes the cosine of all the elements and then returns the corresponding values in an array of the same size."
   ]
  },
  {
   "cell_type": "code",
   "execution_count": 20,
   "id": "d7ea12d8",
   "metadata": {},
   "outputs": [
    {
     "name": "stderr",
     "output_type": "stream",
     "text": [
      "<ipython-input-20-95244240851d>:2: RuntimeWarning: divide by zero encountered in log\n",
      "  np.log(arr)\n"
     ]
    },
    {
     "data": {
      "text/plain": [
       "array([      -inf, 0.        , 0.69314718, 1.09861229, 1.38629436,\n",
       "       1.60943791, 1.79175947, 1.94591015, 2.07944154, 2.19722458,\n",
       "       2.30258509])"
      ]
     },
     "execution_count": 20,
     "metadata": {},
     "output_type": "execute_result"
    }
   ],
   "source": [
    "# Natural Log (base e wala) -\n",
    "np.log(arr)\n",
    "# np.log(np.exp(arr))"
   ]
  },
  {
   "cell_type": "code",
   "execution_count": 21,
   "id": "25ff8f7d",
   "metadata": {},
   "outputs": [
    {
     "name": "stderr",
     "output_type": "stream",
     "text": [
      "<ipython-input-21-77b4515e3fc8>:2: RuntimeWarning: divide by zero encountered in log2\n",
      "  np.log2(arr)\n"
     ]
    },
    {
     "data": {
      "text/plain": [
       "array([      -inf, 0.        , 1.        , 1.5849625 , 2.        ,\n",
       "       2.32192809, 2.5849625 , 2.80735492, 3.        , 3.169925  ,\n",
       "       3.32192809])"
      ]
     },
     "execution_count": 21,
     "metadata": {},
     "output_type": "execute_result"
    }
   ],
   "source": [
    "# Base 2 log -\n",
    "np.log2(arr)"
   ]
  },
  {
   "cell_type": "code",
   "execution_count": 22,
   "id": "ea097e97",
   "metadata": {},
   "outputs": [
    {
     "name": "stderr",
     "output_type": "stream",
     "text": [
      "<ipython-input-22-bf6952c6516e>:2: RuntimeWarning: divide by zero encountered in log10\n",
      "  np.log10(arr)\n"
     ]
    },
    {
     "data": {
      "text/plain": [
       "array([      -inf, 0.        , 0.30103   , 0.47712125, 0.60205999,\n",
       "       0.69897   , 0.77815125, 0.84509804, 0.90308999, 0.95424251,\n",
       "       1.        ])"
      ]
     },
     "execution_count": 22,
     "metadata": {},
     "output_type": "execute_result"
    }
   ],
   "source": [
    "# Base 10 log -\n",
    "np.log10(arr)"
   ]
  },
  {
   "cell_type": "code",
   "execution_count": 23,
   "id": "02539636",
   "metadata": {},
   "outputs": [],
   "source": [
    "# Link - https://numpy.org/doc/stable/reference/ufuncs.html"
   ]
  },
  {
   "cell_type": "code",
   "execution_count": null,
   "id": "b42db6a6",
   "metadata": {},
   "outputs": [],
   "source": [
    "*******************************************************************************************************************************"
   ]
  },
  {
   "cell_type": "code",
   "execution_count": 30,
   "id": "0dff977d",
   "metadata": {},
   "outputs": [
    {
     "name": "stdout",
     "output_type": "stream",
     "text": [
      "[[1 2 3]\n",
      " [4 5 6]\n",
      " [7 8 9]]\n",
      "[12 15 18]\n",
      "[ 6 15 24]\n"
     ]
    }
   ],
   "source": [
    "# Some more array operations -\n",
    "\n",
    "# 1. Take sum of all array elements -\n",
    "# np.sum(a=arr_name_to_operated_on, axis=corresponding_to_the_dimension->optional, dtype=the_output_type_to_be_returned->optional)\n",
    "# OR\n",
    "# arr_name.sum(axis=corresponding_to_the_dimension->optional, dtype=the_output_type_to_be_returned->optional)\n",
    "# axis corresponds to the dimension along which we want to sum, for column axis=0, for row axis=1.\n",
    "\n",
    "# # Regular way to calc column wise sum -\n",
    "# # col_sum = [mat[:,i].sum() for i in range(5)]\n",
    "# # col_sum = np.array(col_sum)\n",
    "# # col_sum\n",
    "\n",
    "# # Mentos way to calc column wise sum -\n",
    "# mat.sum(axis=0)\n",
    "\n",
    "arr = np.arange(1,10).reshape(3,3)\n",
    "print(arr)\n",
    "print(arr.sum(axis=0))\n",
    "print(arr.sum(axis=1))"
   ]
  },
  {
   "cell_type": "code",
   "execution_count": null,
   "id": "6bca0355",
   "metadata": {},
   "outputs": [],
   "source": [
    "# 2. Take standard deviation of all the values present in an array - arr_name.std()\n",
    "# isme bhi axis wali cheez hoti he.\n",
    "# axis = 0 -> column \n",
    "# axis = 1 -> row"
   ]
  }
 ],
 "metadata": {
  "kernelspec": {
   "display_name": "Python 3",
   "language": "python",
   "name": "python3"
  },
  "language_info": {
   "codemirror_mode": {
    "name": "ipython",
    "version": 3
   },
   "file_extension": ".py",
   "mimetype": "text/x-python",
   "name": "python",
   "nbconvert_exporter": "python",
   "pygments_lexer": "ipython3",
   "version": "3.8.8"
  }
 },
 "nbformat": 4,
 "nbformat_minor": 5
}
