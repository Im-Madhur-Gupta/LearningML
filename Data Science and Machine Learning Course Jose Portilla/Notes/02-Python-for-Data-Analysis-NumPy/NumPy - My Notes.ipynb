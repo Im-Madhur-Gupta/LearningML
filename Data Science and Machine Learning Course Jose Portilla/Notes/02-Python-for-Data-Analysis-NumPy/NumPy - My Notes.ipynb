{
 "cells": [
  {
   "cell_type": "code",
   "execution_count": 2,
   "id": "5972bf75",
   "metadata": {},
   "outputs": [],
   "source": [
    "# NumPy is a Linear Algebra library for python. Its used in almost all the other libraries in the PyData ecosystem."
   ]
  },
  {
   "cell_type": "code",
   "execution_count": 4,
   "id": "51af5b8f",
   "metadata": {},
   "outputs": [],
   "source": [
    "# Hum NumPy ko use karenge using its NumPy arrays, which are of 2 types -\n",
    "# 1. Vectors - 1D arrays - 1D List\n",
    "# 2. Matrices - 2D arrays - 2D List"
   ]
  },
  {
   "cell_type": "code",
   "execution_count": 55,
   "id": "b0028fd6",
   "metadata": {},
   "outputs": [
    {
     "name": "stdout",
     "output_type": "stream",
     "text": [
      "[1 2 3]\n",
      "[[1 2 3]\n",
      " [4 5 6]\n",
      " [7 8 9]]\n"
     ]
    }
   ],
   "source": [
    "import numpy as np\n",
    "\n",
    "# Casting a python 1D list to a numpy vector -\n",
    "arr_list = [1,2,3]\n",
    "arr_vector = np.array(arr_list)\n",
    "print(arr_vector)\n",
    "\n",
    "# Casting a python 2D list to a numpy matrix -\n",
    "arr_list_of_list = [[1,2,3],[4,5,6],[7,8,9]]\n",
    "arr_matrix = np.array(arr_list_of_list)\n",
    "print(arr_matrix)"
   ]
  },
  {
   "cell_type": "code",
   "execution_count": 10,
   "id": "491ec83a",
   "metadata": {},
   "outputs": [
    {
     "name": "stdout",
     "output_type": "stream",
     "text": [
      "[ 1  2  3  4  5  6  7  8  9 10]\n"
     ]
    }
   ],
   "source": [
    "# Faster way to do the above is using inbuilt generation methods of NumPy -\n",
    "# arange() method - \"A range\" method, functionality wise its same as the range method of python\n",
    "# python ka range generates a list whereas the arange() method generates a NumPy vector. \n",
    "numpy_vector = np.arange(1,11)\n",
    "print(numpy_vector)"
   ]
  },
  {
   "cell_type": "code",
   "execution_count": 11,
   "id": "28562c0b",
   "metadata": {},
   "outputs": [
    {
     "name": "stdout",
     "output_type": "stream",
     "text": [
      "[0 3 6 9]\n"
     ]
    }
   ],
   "source": [
    "vec1 = np.arange(0,11,3) # arange(start(included), stop(excluded), step size(default=1))\n",
    "print(vec1)"
   ]
  },
  {
   "cell_type": "code",
   "execution_count": 15,
   "id": "fc67e33f",
   "metadata": {},
   "outputs": [
    {
     "name": "stdout",
     "output_type": "stream",
     "text": [
      "[0. 0. 0. 0. 0.]\n",
      "[[0. 0. 0.]\n",
      " [0. 0. 0.]]\n",
      "[1. 1. 1. 1. 1.]\n",
      "[[1. 1. 1.]\n",
      " [1. 1. 1.]]\n"
     ]
    }
   ],
   "source": [
    "# Genereating some special NumPy vectors and matrices -\n",
    "\n",
    "# Vector filled with zeros\n",
    "vec_0s = np.zeros(5)\n",
    "print(vec_0s)\n",
    "\n",
    "# Matrix filled with zeros\n",
    "mat_0s = np.zeros((2,3))\n",
    "# zeros((rows,columns)) -> (rows,columns) ki ek tuple dete he.\n",
    "print(mat_0s)\n",
    "\n",
    "# Vector filled with ones\n",
    "vec_1s = np.ones(3)\n",
    "print(vec_1s)\n",
    "\n",
    "# Matrix filled with ones\n",
    "mat_1s = np.ones((4,6))\n",
    "# zeros((rows,columns)) -> (rows,columns) ki ek tuple dete he.\n",
    "print(mat_1s)"
   ]
  },
  {
   "cell_type": "code",
   "execution_count": 34,
   "id": "751cde1b",
   "metadata": {},
   "outputs": [
    {
     "name": "stdout",
     "output_type": "stream",
     "text": [
      "[1.         1.04040404 1.08080808 1.12121212 1.16161616 1.2020202\n",
      " 1.24242424 1.28282828 1.32323232 1.36363636 1.4040404  1.44444444\n",
      " 1.48484848 1.52525253 1.56565657 1.60606061 1.64646465 1.68686869\n",
      " 1.72727273 1.76767677 1.80808081 1.84848485 1.88888889 1.92929293\n",
      " 1.96969697 2.01010101 2.05050505 2.09090909 2.13131313 2.17171717\n",
      " 2.21212121 2.25252525 2.29292929 2.33333333 2.37373737 2.41414141\n",
      " 2.45454545 2.49494949 2.53535354 2.57575758 2.61616162 2.65656566\n",
      " 2.6969697  2.73737374 2.77777778 2.81818182 2.85858586 2.8989899\n",
      " 2.93939394 2.97979798 3.02020202 3.06060606 3.1010101  3.14141414\n",
      " 3.18181818 3.22222222 3.26262626 3.3030303  3.34343434 3.38383838\n",
      " 3.42424242 3.46464646 3.50505051 3.54545455 3.58585859 3.62626263\n",
      " 3.66666667 3.70707071 3.74747475 3.78787879 3.82828283 3.86868687\n",
      " 3.90909091 3.94949495 3.98989899 4.03030303 4.07070707 4.11111111\n",
      " 4.15151515 4.19191919 4.23232323 4.27272727 4.31313131 4.35353535\n",
      " 4.39393939 4.43434343 4.47474747 4.51515152 4.55555556 4.5959596\n",
      " 4.63636364 4.67676768 4.71717172 4.75757576 4.7979798  4.83838384\n",
      " 4.87878788 4.91919192 4.95959596 5.        ]\n"
     ]
    }
   ],
   "source": [
    "# Generate n (including p and q) decimal numbers in a given range = [p,q]\n",
    "# np.linspace(p,q,n) --> returns a 1D list of these n numbers.\n",
    "print(np.linspace(1,5,100))"
   ]
  },
  {
   "cell_type": "code",
   "execution_count": 20,
   "id": "db7fff26",
   "metadata": {},
   "outputs": [
    {
     "name": "stdout",
     "output_type": "stream",
     "text": [
      "[[1. 0. 0. 0. 0.]\n",
      " [0. 1. 0. 0. 0.]\n",
      " [0. 0. 1. 0. 0.]\n",
      " [0. 0. 0. 1. 0.]\n",
      " [0. 0. 0. 0. 1.]]\n"
     ]
    }
   ],
   "source": [
    "# Generate an Identity Matrix (leading diagonal pe 1s wali square matrix) -\n",
    "identity_mat = np.eye(5)\n",
    "print(identity_mat)"
   ]
  },
  {
   "cell_type": "code",
   "execution_count": 25,
   "id": "7e0e0ed4",
   "metadata": {},
   "outputs": [
    {
     "name": "stdout",
     "output_type": "stream",
     "text": [
      "[0.8332115  0.91006954 0.01296187 0.92161817 0.93687163]\n",
      "[[0.5798884  0.51662881 0.17444099 0.31926187 0.00360072 0.44407867]\n",
      " [0.55223108 0.20226315 0.85061438 0.54368819 0.77115373 0.0116302 ]\n",
      " [0.01991697 0.62576088 0.04293496 0.42161499 0.07214546 0.0606923 ]\n",
      " [0.58179777 0.73691758 0.7457853  0.72134357 0.6036778  0.22139597]\n",
      " [0.27970338 0.38112042 0.72772548 0.71335615 0.86592967 0.99224165]]\n"
     ]
    }
   ],
   "source": [
    "# Genrate a vector filled with random decimal numbers from [0,1] -\n",
    "print(np.random.rand(5))\n",
    "\n",
    "# Genrate a matrix filled with random decimal numbers from [0,1] -\n",
    "print(np.random.rand(5,6))\n",
    "\n",
    "# IMPORTANT - Numbers generated using rand() method follow Uniform Distribution."
   ]
  },
  {
   "cell_type": "code",
   "execution_count": 27,
   "id": "6f149653",
   "metadata": {},
   "outputs": [
    {
     "name": "stdout",
     "output_type": "stream",
     "text": [
      "[ 0.03655238  1.25587419 -0.97946369  0.6147711   1.200769  ]\n",
      "[[ 0.53593905  1.00082976 -0.40896642  0.3270343   0.26187579  0.63409275]\n",
      " [-0.51435193 -1.70617076  1.40229023 -1.61874104  0.14180202  0.53106904]\n",
      " [ 1.7097707   0.28654781 -0.87563774  1.51964185 -0.98176517  1.33274983]\n",
      " [-0.60584223 -0.82610256 -0.07693264  0.72196761  0.64574342  1.99534414]\n",
      " [ 0.1098121   0.97085313  1.32264928  2.10598004 -0.5054779   0.08506406]]\n"
     ]
    }
   ],
   "source": [
    "# If we want to generate a vector of random numbers that follow Standard Normal / Gaussian Distribution, centered around 0 (mean is 0) -\n",
    "print(np.random.randn(5))\n",
    "\n",
    "# If we want to generate a matrix of random numbers that follow Standard Normal / Gaussian Distribution, centered around 0 (mean is 0) -\n",
    "print(np.random.randn(5,6))"
   ]
  },
  {
   "cell_type": "code",
   "execution_count": 28,
   "id": "5f8f77ed",
   "metadata": {},
   "outputs": [
    {
     "name": "stdout",
     "output_type": "stream",
     "text": [
      "[13 94 34 33 27 35 64 42 94 41]\n"
     ]
    }
   ],
   "source": [
    "# If we want to generate a vector of random Integers -\n",
    "print(np.random.randint(1,100,10)) # (low (included), high(excluded), kitne generate karne he)"
   ]
  },
  {
   "cell_type": "code",
   "execution_count": 31,
   "id": "43caf8d9",
   "metadata": {},
   "outputs": [
    {
     "data": {
      "text/plain": [
       "array([ 0,  1,  2,  3,  4,  5,  6,  7,  8,  9, 10, 11, 12, 13, 14, 15, 16,\n",
       "       17, 18, 19, 20, 21, 22, 23, 24])"
      ]
     },
     "execution_count": 31,
     "metadata": {},
     "output_type": "execute_result"
    }
   ],
   "source": [
    "arr = np.arange(25)\n",
    "arr"
   ]
  },
  {
   "cell_type": "code",
   "execution_count": 32,
   "id": "d7ee8fed",
   "metadata": {},
   "outputs": [
    {
     "data": {
      "text/plain": [
       "array([3, 9, 4, 1, 0])"
      ]
     },
     "execution_count": 32,
     "metadata": {},
     "output_type": "execute_result"
    }
   ],
   "source": [
    "arr_int = np.random.randint(0,11,5)\n",
    "arr_int"
   ]
  },
  {
   "cell_type": "code",
   "execution_count": 43,
   "id": "1c167de2",
   "metadata": {},
   "outputs": [
    {
     "name": "stdout",
     "output_type": "stream",
     "text": [
      "[[ 0  1  2  3  4]\n",
      " [ 5  6  7  8  9]\n",
      " [10 11 12 13 14]\n",
      " [15 16 17 18 19]\n",
      " [20 21 22 23 24]]\n"
     ]
    }
   ],
   "source": [
    "# Resize an array - meaning data stored in it would be of same type ie random ints, randn etc but the number of\n",
    "# elements would be changed, 1d to 2d and vice versa is also possible.\n",
    "\n",
    "# Reshaping arr - array_name.reshape(new_size)\n",
    "# IMP - Total Number of Elements should be SAME. 25 = 5*5\n",
    "arr = arr.reshape(5,5) # arr ko reshape karke ussi identifier pe assign kar diya.\n",
    "print(arr)"
   ]
  },
  {
   "cell_type": "code",
   "execution_count": 44,
   "id": "f096480e",
   "metadata": {},
   "outputs": [
    {
     "name": "stdout",
     "output_type": "stream",
     "text": [
      "9\n",
      "0\n",
      "24\n",
      "0\n"
     ]
    }
   ],
   "source": [
    "# To find the maximum / minimum element of a NumPy vector or matrix -\n",
    "# array_name.max(), array_name.min()\n",
    "print(arr_int.max())\n",
    "print(arr_int.min())\n",
    "print(arr.max())\n",
    "print(arr.min())"
   ]
  },
  {
   "cell_type": "code",
   "execution_count": 47,
   "id": "87e744f9",
   "metadata": {},
   "outputs": [
    {
     "name": "stdout",
     "output_type": "stream",
     "text": [
      "[3 9 4 1 0]\n",
      "1\n",
      "4\n",
      "[[ 0  1  2  3  4]\n",
      " [ 5  6  7  8  9]\n",
      " [10 11 12 13 14]\n",
      " [15 16 17 18 19]\n",
      " [20 21 22 23 24]]\n",
      "24\n",
      "0\n"
     ]
    }
   ],
   "source": [
    "# To find the index of maximum / minimum element of a NumPy vector (array) -\n",
    "# array_name.argmax(),array_name.argmin()\n",
    "print(arr_int)\n",
    "print(arr_int.argmax())\n",
    "print(arr_int.argmin())\n",
    "print(arr)\n",
    "print(arr.argmax())\n",
    "print(arr.argmin())"
   ]
  },
  {
   "cell_type": "code",
   "execution_count": 51,
   "id": "a70e2d5e",
   "metadata": {},
   "outputs": [
    {
     "name": "stdout",
     "output_type": "stream",
     "text": [
      "(5,)\n",
      "(5, 5)\n"
     ]
    }
   ],
   "source": [
    "# To get the size / dimesions of vector or matrix -\n",
    "print(arr_int.shape)\n",
    "print(arr.shape)"
   ]
  },
  {
   "cell_type": "code",
   "execution_count": 53,
   "id": "3f2f81bc",
   "metadata": {},
   "outputs": [
    {
     "name": "stdout",
     "output_type": "stream",
     "text": [
      "int32\n",
      "int32\n"
     ]
    }
   ],
   "source": [
    "# To get the datatype of items in a vector or matrix -\n",
    "print(arr.dtype)\n",
    "print(arr_int.dtype)"
   ]
  },
  {
   "cell_type": "code",
   "execution_count": 58,
   "id": "76606458",
   "metadata": {},
   "outputs": [
    {
     "name": "stdout",
     "output_type": "stream",
     "text": [
      "[ 0  4  2 10  5]\n",
      "[0.53066328 0.98868439 0.35577253 0.45375425 0.54021989 0.62013388\n",
      " 0.53841203 0.67421857 0.44679941 0.13347344]\n"
     ]
    }
   ],
   "source": [
    "# np.random.randint() pura likhne ki jagah -\n",
    "from numpy.random import randint\n",
    "print(randint(0,11,5)) # seedha chal jaega\n",
    "\n",
    "from numpy.random import rand as rn\n",
    "print(rn(10))"
   ]
  },
  {
   "cell_type": "code",
   "execution_count": null,
   "id": "291d488f",
   "metadata": {},
   "outputs": [],
   "source": []
  }
 ],
 "metadata": {
  "kernelspec": {
   "display_name": "Python 3",
   "language": "python",
   "name": "python3"
  },
  "language_info": {
   "codemirror_mode": {
    "name": "ipython",
    "version": 3
   },
   "file_extension": ".py",
   "mimetype": "text/x-python",
   "name": "python",
   "nbconvert_exporter": "python",
   "pygments_lexer": "ipython3",
   "version": "3.8.8"
  }
 },
 "nbformat": 4,
 "nbformat_minor": 5
}
